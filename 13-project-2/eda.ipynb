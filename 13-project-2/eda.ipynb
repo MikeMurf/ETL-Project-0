{
 "cells": [
  {
   "cell_type": "code",
   "execution_count": 9,
   "id": "01510211",
   "metadata": {},
   "outputs": [],
   "source": [
    "#   import dependencies\n",
    "import matplotlib.pyplot as plt\n",
    "import pandas as pd\n",
    "import scipy.stats as st\n",
    "from scipy.stats import linregress\n",
    "from urllib.error import HTTPError\n",
    "import numpy as np\n",
    "import wget\n",
    "import time\n",
    "from datetime import datetime\n",
    "from pandas_profiling import ProfileReport"
   ]
  },
  {
   "cell_type": "markdown",
   "id": "eb168fed",
   "metadata": {},
   "source": [
    "#### Pandas Profiling was used to analyse the three data frames produced by the \"create_covid_db\" notebook. \n",
    "#### The results of the analysis are appended to the \"Project-2 Report\""
   ]
  },
  {
   "cell_type": "markdown",
   "id": "e9c16066",
   "metadata": {},
   "source": [
    "#### Exploratory analysis of covid_cases data set using Pandas ProfilinG\n"
   ]
  },
  {
   "cell_type": "raw",
   "id": "5a003b0e",
   "metadata": {},
   "source": [
    "df = pd.read_csv('exported_CSVs/covid_cases.csv')"
   ]
  },
  {
   "cell_type": "code",
   "execution_count": 11,
   "id": "bd9758bf",
   "metadata": {},
   "outputs": [
    {
     "data": {
      "application/vnd.jupyter.widget-view+json": {
       "model_id": "10df4ba1a81e471395bb624fc948fccd",
       "version_major": 2,
       "version_minor": 0
      },
      "text/plain": [
       "Summarize dataset:   0%|          | 0/5 [00:00<?, ?it/s]"
      ]
     },
     "metadata": {},
     "output_type": "display_data"
    },
    {
     "name": "stderr",
     "output_type": "stream",
     "text": [
      "C:\\Users\\mikem\\anaconda3\\lib\\site-packages\\scipy\\stats\\stats.py:4812: RuntimeWarning: overflow encountered in longlong_scalars\n",
      "  (2 * xtie * ytie) / m + x0 * y0 / (9 * m * (size - 2)))\n"
     ]
    },
    {
     "data": {
      "application/vnd.jupyter.widget-view+json": {
       "model_id": "bdfa73148a524599ae7e9a7556cb10ac",
       "version_major": 2,
       "version_minor": 0
      },
      "text/plain": [
       "Generate report structure:   0%|          | 0/1 [00:00<?, ?it/s]"
      ]
     },
     "metadata": {},
     "output_type": "display_data"
    },
    {
     "data": {
      "application/vnd.jupyter.widget-view+json": {
       "model_id": "f087c8a1f0a642d29dab9277c880b249",
       "version_major": 2,
       "version_minor": 0
      },
      "text/plain": [
       "Render HTML:   0%|          | 0/1 [00:00<?, ?it/s]"
      ]
     },
     "metadata": {},
     "output_type": "display_data"
    },
    {
     "data": {
      "application/vnd.jupyter.widget-view+json": {
       "model_id": "5e9f6eaf0cd44a81bb8e104f5379d2b1",
       "version_major": 2,
       "version_minor": 0
      },
      "text/plain": [
       "Export report to file:   0%|          | 0/1 [00:00<?, ?it/s]"
      ]
     },
     "metadata": {},
     "output_type": "display_data"
    }
   ],
   "source": [
    "#   start exploratory data analysis\n",
    "prof = ProfileReport(df)\n",
    "prof.to_file(output_file='output_conf.html')\n"
   ]
  },
  {
   "cell_type": "markdown",
   "id": "1f3ff6fa",
   "metadata": {},
   "source": [
    "#### Exploratory analysis of vaccinations data set using Pandas Profiling\n"
   ]
  },
  {
   "cell_type": "code",
   "execution_count": 3,
   "id": "9b4086d3",
   "metadata": {},
   "outputs": [],
   "source": [
    "df = pd.read_csv('exported_CSVs/vaccinations.csv')\n"
   ]
  },
  {
   "cell_type": "code",
   "execution_count": 4,
   "id": "26079208",
   "metadata": {},
   "outputs": [
    {
     "data": {
      "application/vnd.jupyter.widget-view+json": {
       "model_id": "1172601d1b0a4401bdec4ece3c111e75",
       "version_major": 2,
       "version_minor": 0
      },
      "text/plain": [
       "Summarize dataset:   0%|          | 0/5 [00:00<?, ?it/s]"
      ]
     },
     "metadata": {},
     "output_type": "display_data"
    },
    {
     "name": "stderr",
     "output_type": "stream",
     "text": [
      "C:\\Users\\mikem\\anaconda3\\lib\\site-packages\\scipy\\stats\\stats.py:4812: RuntimeWarning: overflow encountered in longlong_scalars\n",
      "  (2 * xtie * ytie) / m + x0 * y0 / (9 * m * (size - 2)))\n"
     ]
    },
    {
     "data": {
      "application/vnd.jupyter.widget-view+json": {
       "model_id": "96c1f083b62348c09369b982d0fe6d93",
       "version_major": 2,
       "version_minor": 0
      },
      "text/plain": [
       "Generate report structure:   0%|          | 0/1 [00:00<?, ?it/s]"
      ]
     },
     "metadata": {},
     "output_type": "display_data"
    },
    {
     "data": {
      "application/vnd.jupyter.widget-view+json": {
       "model_id": "a948e2b1df634f3fac7e77e6872ded99",
       "version_major": 2,
       "version_minor": 0
      },
      "text/plain": [
       "Render HTML:   0%|          | 0/1 [00:00<?, ?it/s]"
      ]
     },
     "metadata": {},
     "output_type": "display_data"
    },
    {
     "data": {
      "application/vnd.jupyter.widget-view+json": {
       "model_id": "3f56f785781f4cc6b474ee5eedd3e2e4",
       "version_major": 2,
       "version_minor": 0
      },
      "text/plain": [
       "Export report to file:   0%|          | 0/1 [00:00<?, ?it/s]"
      ]
     },
     "metadata": {},
     "output_type": "display_data"
    }
   ],
   "source": [
    "#   start exploratory data analysis\n",
    "prof = ProfileReport(df)\n",
    "prof.to_file(output_file='output_conf.html')\n"
   ]
  },
  {
   "cell_type": "markdown",
   "id": "e7122898",
   "metadata": {},
   "source": [
    "#### Exploratory analysis of world population data set using Pandas Profiling\n"
   ]
  },
  {
   "cell_type": "code",
   "execution_count": 7,
   "id": "ee04b5a3",
   "metadata": {},
   "outputs": [],
   "source": [
    "df = pd.read_csv('exported_CSVs/world_population.csv')"
   ]
  },
  {
   "cell_type": "code",
   "execution_count": 8,
   "id": "7bdbdfd3",
   "metadata": {},
   "outputs": [
    {
     "data": {
      "application/vnd.jupyter.widget-view+json": {
       "model_id": "ab05fa8e8911419dada49ff7c3c1c2cf",
       "version_major": 2,
       "version_minor": 0
      },
      "text/plain": [
       "Summarize dataset:   0%|          | 0/5 [00:00<?, ?it/s]"
      ]
     },
     "metadata": {},
     "output_type": "display_data"
    },
    {
     "name": "stderr",
     "output_type": "stream",
     "text": [
      "C:\\Users\\mikem\\anaconda3\\lib\\site-packages\\missingno\\missingno.py:250: UserWarning: FixedFormatter should only be used together with FixedLocator\n",
      "  ax1.set_xticklabels(ax1.get_xticklabels(), rotation=45, ha='right', fontsize=fontsize)\n",
      "C:\\Users\\mikem\\anaconda3\\lib\\site-packages\\pandas_profiling\\model\\missing.py:89: UserWarning: There was an attempt to generate the Count missing values diagrams, but this failed.\n",
      "To hide this warning, disable the calculation\n",
      "(using `df.profile_report(missing_diagrams={\"Count\": False}`)\n",
      "If this is problematic for your use case, please report this as an issue:\n",
      "https://github.com/pandas-profiling/pandas-profiling/issues\n",
      "(include the error message: 'The number of FixedLocator locations (7), usually from a call to set_ticks, does not match the number of ticklabels (66).')\n",
      "  warnings.warn(\n"
     ]
    },
    {
     "data": {
      "application/vnd.jupyter.widget-view+json": {
       "model_id": "487011c406624008969b297feb1b66d3",
       "version_major": 2,
       "version_minor": 0
      },
      "text/plain": [
       "Generate report structure:   0%|          | 0/1 [00:00<?, ?it/s]"
      ]
     },
     "metadata": {},
     "output_type": "display_data"
    },
    {
     "data": {
      "application/vnd.jupyter.widget-view+json": {
       "model_id": "8c3863a499d541369e62ef552c0b8986",
       "version_major": 2,
       "version_minor": 0
      },
      "text/plain": [
       "Render HTML:   0%|          | 0/1 [00:00<?, ?it/s]"
      ]
     },
     "metadata": {},
     "output_type": "display_data"
    },
    {
     "data": {
      "application/vnd.jupyter.widget-view+json": {
       "model_id": "fb909dccd1b144f8a06ff3d3e9f11ac5",
       "version_major": 2,
       "version_minor": 0
      },
      "text/plain": [
       "Export report to file:   0%|          | 0/1 [00:00<?, ?it/s]"
      ]
     },
     "metadata": {},
     "output_type": "display_data"
    }
   ],
   "source": [
    "#   start exploratory data analysis\n",
    "prof = ProfileReport(df)\n",
    "prof.to_file(output_file='output_conf.html')\n"
   ]
  },
  {
   "cell_type": "code",
   "execution_count": null,
   "id": "26c5b3ae",
   "metadata": {},
   "outputs": [],
   "source": []
  }
 ],
 "metadata": {
  "kernelspec": {
   "display_name": "Python 3 (ipykernel)",
   "language": "python",
   "name": "python3"
  },
  "language_info": {
   "codemirror_mode": {
    "name": "ipython",
    "version": 3
   },
   "file_extension": ".py",
   "mimetype": "text/x-python",
   "name": "python",
   "nbconvert_exporter": "python",
   "pygments_lexer": "ipython3",
   "version": "3.9.7"
  }
 },
 "nbformat": 4,
 "nbformat_minor": 5
}
